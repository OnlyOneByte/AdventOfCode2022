{
 "cells": [
  {
   "cell_type": "markdown",
   "metadata": {},
   "source": [
    "# Part 1"
   ]
  },
  {
   "cell_type": "code",
   "execution_count": 17,
   "metadata": {},
   "outputs": [],
   "source": [
    "input_lines = open(\"input.txt\", \"r\").readlines()\n",
    "stack_lines = []\n",
    "instruc_lines = []\n",
    "\n",
    "# 4x-1 where x is num stacks\n",
    "num_stacks = int((len(input_lines[0].strip(\"\\n\"))+1)/4)\n",
    "stacks = [[] for _ in range(num_stacks)]\n",
    "\n",
    "# sets up stack/instruc split\n",
    "for line_num in range(len(input_lines)):\n",
    "    if input_lines[line_num] == \"\\n\":\n",
    "        stack_lines = input_lines[:line_num]\n",
    "        instruc_lines = input_lines[line_num+1:]\n",
    "\n",
    "# sets up stacks\n",
    "for line in stack_lines:\n",
    "    for i in range(num_stacks):\n",
    "        if line[4*i+1].isalpha():\n",
    "            stacks[i].append(line[4*i+1])\n",
    "# reverses stacks\n",
    "for i in range(num_stacks):\n",
    "    stacks[i].reverse()"
   ]
  },
  {
   "cell_type": "code",
   "execution_count": 29,
   "metadata": {},
   "outputs": [
    {
     "name": "stdout",
     "output_type": "stream",
     "text": [
      "['F', 'N', 'B', 'G', 'B']\n",
      "['B', 'S', 'G', 'S']\n",
      "['V', 'M', 'B', 'D', 'Z', 'W', 'R', 'D']\n",
      "['R', 'W', 'M']\n",
      "['F', 'P', 'V', 'W', 'Q']\n",
      "['H', 'J', 'L', 'R', 'D', 'P', 'F', 'S', 'P', 'J', 'V', 'D', 'N', 'D', 'C', 'F', 'F']\n",
      "['N', 'L']\n",
      "['S']\n",
      "['B', 'C', 'R', 'H', 'W', 'L', 'B', 'Q', 'M', 'Q', 'P']\n",
      "------\n",
      "BSDMQFLSP\n"
     ]
    }
   ],
   "source": [
    "import copy\n",
    "stacks_output = copy.deepcopy(stacks)\n",
    "\n",
    "# follows the instructions\n",
    "for line in instruc_lines:\n",
    "    items = line.strip(\"\\n\").split(\" \")\n",
    "    quantity = int(items[1])\n",
    "    stack_from = int(items[3])-1\n",
    "    stack_to = int(items[5])-1\n",
    "\n",
    "    for _ in range(quantity):\n",
    "        stacks_output[stack_to].append(stacks_output[stack_from].pop())\n",
    "\n",
    "# output\n",
    "for stack in stacks_output:\n",
    "    print(stack)\n",
    "print(\"------\")\n",
    "print(\"\".join([x[-1] for x in stacks_output]))"
   ]
  },
  {
   "cell_type": "markdown",
   "metadata": {},
   "source": [
    "# Part 2"
   ]
  },
  {
   "cell_type": "code",
   "execution_count": 30,
   "metadata": {},
   "outputs": [
    {
     "name": "stdout",
     "output_type": "stream",
     "text": [
      "['F', 'D', 'M', 'G', 'P']\n",
      "['D', 'V', 'Z', 'G']\n",
      "['M', 'R', 'R', 'S', 'V', 'B', 'H', 'S']\n",
      "['S', 'H', 'Q']\n",
      "['D', 'L', 'C', 'N', 'B']\n",
      "['D', 'P', 'J', 'W', 'C', 'B', 'S', 'N', 'F', 'L', 'F', 'W', 'R', 'Q', 'F', 'W', 'F']\n",
      "['V', 'L']\n",
      "['D']\n",
      "['W', 'Q', 'B', 'B', 'P', 'M', 'B', 'J', 'R', 'N', 'P']\n",
      "------\n",
      "PGSQBFLDP\n"
     ]
    }
   ],
   "source": [
    "import copy\n",
    "stacks_output = copy.deepcopy(stacks)\n",
    "\n",
    "# follows the instructions\n",
    "for line in instruc_lines:\n",
    "    items = line.strip(\"\\n\").split(\" \")\n",
    "    quantity = int(items[1])\n",
    "    stack_from = int(items[3])-1\n",
    "    stack_to = int(items[5])-1\n",
    "\n",
    "    temp = [stacks_output[stack_from].pop() for _ in range(quantity)]\n",
    "    for _ in range(quantity):\n",
    "        stacks_output[stack_to].append(temp.pop())\n",
    "\n",
    "# output\n",
    "for stack in stacks_output:\n",
    "    print(stack)\n",
    "print(\"------\")\n",
    "print(\"\".join([x[-1] for x in stacks_output]))"
   ]
  }
 ],
 "metadata": {
  "kernelspec": {
   "display_name": "Python 3.9.6 64-bit",
   "language": "python",
   "name": "python3"
  },
  "language_info": {
   "codemirror_mode": {
    "name": "ipython",
    "version": 3
   },
   "file_extension": ".py",
   "mimetype": "text/x-python",
   "name": "python",
   "nbconvert_exporter": "python",
   "pygments_lexer": "ipython3",
   "version": "3.9.6"
  },
  "orig_nbformat": 4,
  "vscode": {
   "interpreter": {
    "hash": "31f2aee4e71d21fbe5cf8b01ff0e069b9275f58929596ceb00d14d90e3e16cd6"
   }
  }
 },
 "nbformat": 4,
 "nbformat_minor": 2
}
