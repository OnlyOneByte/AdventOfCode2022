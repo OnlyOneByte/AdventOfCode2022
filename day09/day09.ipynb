{
 "cells": [
  {
   "attachments": {},
   "cell_type": "markdown",
   "metadata": {},
   "source": [
    "# Setup"
   ]
  },
  {
   "cell_type": "code",
   "execution_count": 5,
   "metadata": {},
   "outputs": [],
   "source": [
    "input_lines = open(\"input.txt\", \"r\").readlines()"
   ]
  },
  {
   "attachments": {},
   "cell_type": "markdown",
   "metadata": {},
   "source": [
    "# Part 1"
   ]
  },
  {
   "cell_type": "code",
   "execution_count": 7,
   "metadata": {},
   "outputs": [],
   "source": [
    "def do_head_step(dir):\n",
    "    # U = UP (y + 1)\n",
    "    # D = DOWN (y - 1)\n",
    "    # R = RIGHT (x + 1)\n",
    "    # L = LEFT (x - 1)\n",
    "    if dir == \"U\":\n",
    "        curr_head[1] += 1\n",
    "    if dir == \"D\":\n",
    "        curr_head[1] -= 1\n",
    "    if dir == \"R\":\n",
    "        curr_head[0] += 1\n",
    "    if dir == \"L\":\n",
    "        curr_head[0] -= 1\n",
    "\n",
    "def do_tail_step():\n",
    "    # don't step situations: tail and head x,y's are both less than 1 diff\n",
    "    if abs(curr_head[0] - curr_tail[0]) <= 1 and abs(curr_head[1] - curr_tail[1]) <= 1:\n",
    "        return\n",
    "\n",
    "    # step situation, x is same, y is 2 apart. Move y towards head\n",
    "    if curr_head[0] == curr_tail[0]:\n",
    "        curr_tail[1] += 1 if curr_head[1] > curr_tail[1] else -1\n",
    "    # step situation, y is same, x is 2 apart. Move x towards head\n",
    "    elif curr_head[1] == curr_tail[1]:\n",
    "        curr_tail[0] += 1 if curr_head[0] > curr_tail[0] else -1\n",
    "\n",
    "    # step situation, move diagonal\n",
    "    else:\n",
    "        curr_tail[0] += 1 if curr_head[0] > curr_tail[0] else -1\n",
    "        curr_tail[1] += 1 if curr_head[1] > curr_tail[1] else -1\n",
    "\n",
    "    # check position\n",
    "    if curr_tail not in tail_visited:\n",
    "        tail_visited.append(list(curr_tail))\n",
    "    \n",
    "curr_head = [0, 0]\n",
    "curr_tail = [0, 0]\n",
    "tail_visited = [[0, 0]]\n",
    "\n",
    "for line in input_lines:\n",
    "    line_items = line.strip(\"\\n\").split(\" \")\n",
    "    direction = line_items[0]\n",
    "    steps = int(line_items[1])\n",
    "\n",
    "    for step in range(steps):\n",
    "        do_head_step(direction)\n",
    "        do_tail_step()"
   ]
  },
  {
   "cell_type": "code",
   "execution_count": 8,
   "metadata": {},
   "outputs": [
    {
     "name": "stdout",
     "output_type": "stream",
     "text": [
      "6464\n"
     ]
    }
   ],
   "source": [
    "print(len(tail_visited))"
   ]
  },
  {
   "cell_type": "markdown",
   "metadata": {},
   "source": [
    "# Part 2"
   ]
  },
  {
   "cell_type": "code",
   "execution_count": 12,
   "metadata": {},
   "outputs": [],
   "source": [
    "def do_head_step(dir):\n",
    "    # U = UP (y + 1)\n",
    "    # D = DOWN (y - 1)\n",
    "    # R = RIGHT (x + 1)\n",
    "    # L = LEFT (x - 1)\n",
    "    if dir == \"U\":\n",
    "        curr_head[1] += 1\n",
    "    if dir == \"D\":\n",
    "        curr_head[1] -= 1\n",
    "    if dir == \"R\":\n",
    "        curr_head[0] += 1\n",
    "    if dir == \"L\":\n",
    "        curr_head[0] -= 1\n",
    "\n",
    "def do_rope_seg_step(curr_seg, prev_seg):\n",
    "    # don't step situations: tail and head x,y's are both less than 1 diff\n",
    "    if abs(prev_seg[0] - curr_seg[0]) <= 1 and abs(prev_seg[1] - curr_seg[1]) <= 1:\n",
    "        return\n",
    "\n",
    "    # step situation, x is same, y is 2 apart. Move y towards head\n",
    "    if prev_seg[0] == curr_seg[0]:\n",
    "        curr_seg[1] += 1 if prev_seg[1] > curr_seg[1] else -1\n",
    "    # step situation, y is same, x is 2 apart. Move x towards head\n",
    "    elif prev_seg[1] == curr_seg[1]:\n",
    "        curr_seg[0] += 1 if prev_seg[0] > curr_seg[0] else -1\n",
    "\n",
    "    # step situation, move diagonal\n",
    "    else:\n",
    "        curr_seg[0] += 1 if prev_seg[0] > curr_seg[0] else -1\n",
    "        curr_seg[1] += 1 if prev_seg[1] > curr_seg[1] else -1\n",
    "\n",
    "def do_rope_step():\n",
    "    do_rope_seg_step(curr_rope[0], curr_head)\n",
    "    \n",
    "    for i in range(1, rope_length-1):\n",
    "        do_rope_seg_step(curr_rope[i], curr_rope[i-1])\n",
    "    \n",
    "    # check position\n",
    "    if curr_rope[rope_length-2] not in tail_visited:\n",
    "        tail_visited.append(list(curr_rope[rope_length-2]))\n",
    "\n",
    "tail_visited = [[0, 0]]\n",
    "rope_length = 10\n",
    "\n",
    "# x, y\n",
    "curr_head = [0, 0]\n",
    "curr_rope = [[0, 0] for _ in range(rope_length-1)]\n",
    "\n",
    "for line in input_lines:\n",
    "    line_items = line.strip(\"\\n\").split(\" \")\n",
    "    direction = line_items[0]\n",
    "    steps = int(line_items[1])\n",
    "\n",
    "    for step in range(steps):\n",
    "        do_head_step(direction)\n",
    "        do_rope_step()"
   ]
  },
  {
   "cell_type": "code",
   "execution_count": 13,
   "metadata": {},
   "outputs": [
    {
     "name": "stdout",
     "output_type": "stream",
     "text": [
      "2604\n"
     ]
    }
   ],
   "source": [
    "print(len(tail_visited))"
   ]
  }
 ],
 "metadata": {
  "kernelspec": {
   "display_name": "Python 3.9.6 64-bit",
   "language": "python",
   "name": "python3"
  },
  "language_info": {
   "codemirror_mode": {
    "name": "ipython",
    "version": 3
   },
   "file_extension": ".py",
   "mimetype": "text/x-python",
   "name": "python",
   "nbconvert_exporter": "python",
   "pygments_lexer": "ipython3",
   "version": "3.9.6"
  },
  "orig_nbformat": 4,
  "vscode": {
   "interpreter": {
    "hash": "31f2aee4e71d21fbe5cf8b01ff0e069b9275f58929596ceb00d14d90e3e16cd6"
   }
  }
 },
 "nbformat": 4,
 "nbformat_minor": 2
}
