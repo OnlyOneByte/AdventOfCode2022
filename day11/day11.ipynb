{
 "cells": [
  {
   "attachments": {},
   "cell_type": "markdown",
   "metadata": {},
   "source": [
    "# Setup"
   ]
  },
  {
   "cell_type": "code",
   "execution_count": 1,
   "metadata": {},
   "outputs": [],
   "source": [
    "input_lines = open(\"input.txt\", \"r\").readlines()"
   ]
  },
  {
   "cell_type": "code",
   "execution_count": 2,
   "metadata": {},
   "outputs": [],
   "source": [
    "def find_operation(operation: str):\n",
    "    # old + 2\n",
    "    # old * 4\n",
    "    items = operation.split(\" \")\n",
    "    if items[1] == \"+\":\n",
    "        return lambda x: x + (int(items[2]) if items[2].isnumeric() else x)\n",
    "    if items[1] == \"-\":\n",
    "        return lambda x: x - (int(items[2]) if items[2].isnumeric() else x)\n",
    "    if items[1] == \"*\":\n",
    "        return lambda x: x * (int(items[2]) if items[2].isnumeric() else x)\n",
    "    if items[1] == \"/\":\n",
    "        return lambda x: x + (int(items[2]) if items[2].isnumeric() else x)\n",
    "\n",
    "class Monkey:\n",
    "    def __init__(self, items: list, operation: str, test: int, test_true: int, test_false: int):\n",
    "        self.items = items\n",
    "        self.operation = find_operation(operation)\n",
    "        self.test = test\n",
    "        self.test_true = test_true\n",
    "        self.test_false = test_false"
   ]
  },
  {
   "cell_type": "code",
   "execution_count": 3,
   "metadata": {},
   "outputs": [],
   "source": [
    "monkeys_dict = {}\n",
    "\n",
    "for i in range(0, len(input_lines), 7):\n",
    "    # first line of monkey, with index\n",
    "    x = int(input_lines[i].strip(\"\\n\").split(\" \")[1].strip(\":\"))\n",
    "\n",
    "    # second line (starting items)\n",
    "    list_items = [int(x) for x in input_lines[i+1].strip(\"\\n\").split(\": \")[1].split(\", \")]\n",
    "\n",
    "    # third line (operation)\n",
    "    op = input_lines[i+2].strip(\"\\n\").split(\" = \")[1]\n",
    "\n",
    "    # fourth line (test)\n",
    "    test = int(input_lines[i+3].strip(\"\\n\").split(\" by \")[1])\n",
    "\n",
    "    # fifth line (true monkey)\n",
    "    test_true = int(input_lines[i+4].strip(\"\\n\").split(\" monkey \")[1])\n",
    "\n",
    "    # sixth line (false monkey)\n",
    "    test_false = int(input_lines[i+5].strip(\"\\n\").split(\" monkey \")[1])\n",
    "\n",
    "    monkeys_dict[x] = Monkey(list_items, op, test, test_true, test_false)\n"
   ]
  },
  {
   "cell_type": "code",
   "execution_count": 4,
   "metadata": {},
   "outputs": [
    {
     "name": "stdout",
     "output_type": "stream",
     "text": [
      "3\n"
     ]
    }
   ],
   "source": [
    "print(monkeys_dict[2].test_true)"
   ]
  },
  {
   "attachments": {},
   "cell_type": "markdown",
   "metadata": {},
   "source": [
    "# Part 1"
   ]
  },
  {
   "cell_type": "code",
   "execution_count": 32,
   "metadata": {},
   "outputs": [],
   "source": [
    "import copy\n",
    "\n",
    "monkey_item_examine_count = {x: 0 for x in monkeys_dict.keys()}\n",
    "monkeys = copy.deepcopy(monkeys_dict)\n",
    "worry_divider = 3\n",
    "\n",
    "def do_round():\n",
    "    for monkey_id, monkey in monkeys.items():\n",
    "        while monkey.items:\n",
    "            monkey_item_examine_count[monkey_id] += 1\n",
    "            item = monkey.items.pop()\n",
    "            new_item_val = monkey.operation(item)\n",
    "            less_worry = new_item_val//worry_divider\n",
    "            if less_worry % monkey.test == 0:\n",
    "                monkeys[monkey.test_true].items.append(less_worry)\n",
    "            else:\n",
    "                monkeys[monkey.test_false].items.append(less_worry)\n",
    "            \n",
    "for _ in range(20):\n",
    "    do_round()"
   ]
  },
  {
   "cell_type": "code",
   "execution_count": 33,
   "metadata": {},
   "outputs": [
    {
     "name": "stdout",
     "output_type": "stream",
     "text": [
      "{0: 343, 1: 333, 2: 347, 3: 22, 4: 22, 5: 350, 6: 44, 7: 320}\n",
      "[347, 350]\n",
      "121450\n"
     ]
    }
   ],
   "source": [
    "print(monkey_item_examine_count)\n",
    "worry_vals = list(monkey_item_examine_count.values())\n",
    "worry_vals.sort()\n",
    "print(worry_vals[-2:])\n",
    "print(math.prod(worry_vals[-2:]))"
   ]
  },
  {
   "cell_type": "markdown",
   "metadata": {},
   "source": [
    "# Part 2"
   ]
  },
  {
   "cell_type": "code",
   "execution_count": 24,
   "metadata": {},
   "outputs": [
    {
     "name": "stdout",
     "output_type": "stream",
     "text": [
      "9699690\n"
     ]
    }
   ],
   "source": [
    "import copy\n",
    "import math\n",
    "\n",
    "monkey_item_examine_count = {x: 0 for x in monkeys_dict.keys()}\n",
    "monkeys = copy.deepcopy(monkeys_dict)\n",
    "worry_keeper = math.prod([m.test for m in monkeys_dict.values()])\n",
    "print(worry_keeper)\n",
    "\n",
    "def do_round():\n",
    "    for monkey_id, monkey in monkeys.items():\n",
    "        while monkey.items:\n",
    "            monkey_item_examine_count[monkey_id] += 1\n",
    "            item = monkey.items.pop()\n",
    "            op_item = monkey.operation(item)\n",
    "            op_item %= worry_keeper\n",
    "            if op_item % monkey.test == 0:\n",
    "                monkeys[monkey.test_true].items.append(op_item)\n",
    "            else:\n",
    "                monkeys[monkey.test_false].items.append(op_item)\n",
    "            \n",
    "for _ in range(10000):\n",
    "    do_round()"
   ]
  },
  {
   "cell_type": "code",
   "execution_count": 31,
   "metadata": {},
   "outputs": [
    {
     "name": "stdout",
     "output_type": "stream",
     "text": [
      "{0: 165766, 1: 161105, 2: 159985, 3: 9209, 4: 18375, 5: 166922, 6: 13590, 7: 169205}\n",
      "[166922, 169205]\n",
      "28244037010\n"
     ]
    }
   ],
   "source": [
    "print(monkey_item_examine_count)\n",
    "worry_vals = list(monkey_item_examine_count.values())\n",
    "worry_vals.sort()\n",
    "print(worry_vals[-2:])\n",
    "print(math.prod(worry_vals[-2:]))"
   ]
  },
  {
   "cell_type": "code",
   "execution_count": null,
   "metadata": {},
   "outputs": [],
   "source": []
  }
 ],
 "metadata": {
  "kernelspec": {
   "display_name": "Python 3.9.6 64-bit",
   "language": "python",
   "name": "python3"
  },
  "language_info": {
   "codemirror_mode": {
    "name": "ipython",
    "version": 3
   },
   "file_extension": ".py",
   "mimetype": "text/x-python",
   "name": "python",
   "nbconvert_exporter": "python",
   "pygments_lexer": "ipython3",
   "version": "3.9.6"
  },
  "orig_nbformat": 4,
  "vscode": {
   "interpreter": {
    "hash": "31f2aee4e71d21fbe5cf8b01ff0e069b9275f58929596ceb00d14d90e3e16cd6"
   }
  }
 },
 "nbformat": 4,
 "nbformat_minor": 2
}
