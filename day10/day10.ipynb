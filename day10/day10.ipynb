{
 "cells": [
  {
   "attachments": {},
   "cell_type": "markdown",
   "metadata": {},
   "source": [
    "# Setup"
   ]
  },
  {
   "cell_type": "code",
   "execution_count": 1,
   "metadata": {},
   "outputs": [],
   "source": [
    "input_lines = open(\"input.txt\", \"r\").readlines()"
   ]
  },
  {
   "attachments": {},
   "cell_type": "markdown",
   "metadata": {},
   "source": [
    "# Part 1"
   ]
  },
  {
   "cell_type": "code",
   "execution_count": 9,
   "metadata": {},
   "outputs": [
    {
     "name": "stdout",
     "output_type": "stream",
     "text": [
      "20 420\n",
      "60 1440\n",
      "100 17 1700\n",
      "140 4060\n",
      "180 3780\n",
      "220 21 4620\n"
     ]
    }
   ],
   "source": [
    "segments = [20, 60, 100, 140, 180, 220]\n",
    "signal_strengths = []\n",
    "\n",
    "register = 1\n",
    "cycle = 1\n",
    "\n",
    "for line in input_lines:\n",
    "    line_items = line.strip(\"\\n\").split(\" \")\n",
    "\n",
    "    cycle += 1\n",
    "\n",
    "    if cycle in segments:\n",
    "        print(cycle, register, cycle*register)\n",
    "        signal_strengths.append(cycle*register)\n",
    "\n",
    "    if line_items[0] == \"addx\":\n",
    "        cycle += 1\n",
    "        register += int(line_items[1])\n",
    "\n",
    "        if cycle in segments:\n",
    "            print(cycle, cycle*register)\n",
    "            signal_strengths.append(cycle*register)\n"
   ]
  },
  {
   "cell_type": "code",
   "execution_count": 10,
   "metadata": {},
   "outputs": [
    {
     "data": {
      "text/plain": [
       "16020"
      ]
     },
     "execution_count": 10,
     "metadata": {},
     "output_type": "execute_result"
    }
   ],
   "source": [
    "sum(signal_strengths)"
   ]
  },
  {
   "cell_type": "markdown",
   "metadata": {},
   "source": [
    "# Part 2"
   ]
  },
  {
   "cell_type": "code",
   "execution_count": 39,
   "metadata": {},
   "outputs": [],
   "source": [
    "input_lines = open(\"input.txt\", \"r\").readlines()"
   ]
  },
  {
   "cell_type": "code",
   "execution_count": 40,
   "metadata": {},
   "outputs": [
    {
     "name": "stdout",
     "output_type": "stream",
     "text": [
      "####..##..####.#..#.####..##..#....###.#\n",
      ".....#..#....#.#..#....#.#..#.#....#..#.\n",
      "###..#......#..#..#...#..#..#.#....#..#.\n",
      ".....#.....#...#..#..#...####.#....###..\n",
      "#....#..#.#....#..#.#....#..#.#....#.###\n",
      "####..##..####..##..####.#..#.####.#..#.\n"
     ]
    }
   ],
   "source": [
    "width = 40\n",
    "height = 6\n",
    "\n",
    "register = 1\n",
    "cycle = 1\n",
    "output = \"\"\n",
    "on = \"#\"\n",
    "off = \".\"\n",
    "\n",
    "\n",
    "for line in input_lines:\n",
    "    line_items = line.strip(\"\\n\").split(\" \")\n",
    "\n",
    "    output += on  if abs((register%width) - len(output)) <=1 else off\n",
    "    if len(output) == width:\n",
    "        print(output)\n",
    "        output = \"\"\n",
    "    cycle += 1\n",
    "\n",
    "    if line_items[0] == \"addx\":\n",
    "        output += on if abs((register%width) - len(output)) <=1 else off\n",
    "        if len(output) == width:\n",
    "            print(output)\n",
    "            output = \"\"\n",
    "        cycle += 1\n",
    "        register += int(line_items[1])"
   ]
  },
  {
   "cell_type": "code",
   "execution_count": null,
   "metadata": {},
   "outputs": [],
   "source": [
    "\n",
    "# ####..##..####.#..#.####..##..#....###.#\n",
    "# .....#..#....#.#..#....#.#..#.#....#..#.\n",
    "# ###..#......#..#..#...#..#..#.#....#..#.\n",
    "# .....#.....#...#..#..#...####.#....###..\n",
    "# #....#..#.#....#..#.#....#..#.#....#.###\n",
    "# ####..##..####..##..####.#..#.####.#..#.\n",
    "\n",
    "# E C Z U Z A L R"
   ]
  }
 ],
 "metadata": {
  "kernelspec": {
   "display_name": "Python 3.9.6 64-bit",
   "language": "python",
   "name": "python3"
  },
  "language_info": {
   "codemirror_mode": {
    "name": "ipython",
    "version": 3
   },
   "file_extension": ".py",
   "mimetype": "text/x-python",
   "name": "python",
   "nbconvert_exporter": "python",
   "pygments_lexer": "ipython3",
   "version": "3.9.6"
  },
  "orig_nbformat": 4,
  "vscode": {
   "interpreter": {
    "hash": "31f2aee4e71d21fbe5cf8b01ff0e069b9275f58929596ceb00d14d90e3e16cd6"
   }
  }
 },
 "nbformat": 4,
 "nbformat_minor": 2
}
