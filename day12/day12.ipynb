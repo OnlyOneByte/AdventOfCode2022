{
 "cells": [
  {
   "attachments": {},
   "cell_type": "markdown",
   "metadata": {},
   "source": [
    "# Setup"
   ]
  },
  {
   "cell_type": "code",
   "execution_count": 2,
   "metadata": {},
   "outputs": [],
   "source": [
    "input_lines = open(\"input.txt\", \"r\").readlines()"
   ]
  },
  {
   "cell_type": "code",
   "execution_count": 9,
   "metadata": {},
   "outputs": [],
   "source": [
    "grid = [[0 for _ in range(len(input_lines[0].strip(\"\\n\")))] for _ in range(len(input_lines))]\n",
    "start = (0, 0)\n",
    "end = (0, 0)\n",
    "\n",
    "\n",
    "for row, line in enumerate(input_lines):\n",
    "    for col, c in enumerate(input_lines[row].strip(\"\\n\")):\n",
    "        c_num = ord(c)\n",
    "        if c_num > 96:\n",
    "            grid[row][col] = ord(c) - 97\n",
    "        else:\n",
    "            if c == \"S\":\n",
    "                # elevation of A\n",
    "                grid[row][col] = 0\n",
    "                start = (row, col)\n",
    "            elif c == \"E\":\n",
    "                # elevation of Z\n",
    "                grid[row][col] = 25\n",
    "                end = (row, col)\n",
    "            else:\n",
    "                print(\"Unknown character in input\")"
   ]
  },
  {
   "attachments": {},
   "cell_type": "markdown",
   "metadata": {},
   "source": [
    "# Part 1"
   ]
  },
  {
   "cell_type": "code",
   "execution_count": null,
   "metadata": {},
   "outputs": [],
   "source": []
  },
  {
   "cell_type": "markdown",
   "metadata": {},
   "source": [
    "# Part 2"
   ]
  },
  {
   "cell_type": "code",
   "execution_count": null,
   "metadata": {},
   "outputs": [],
   "source": []
  }
 ],
 "metadata": {
  "kernelspec": {
   "display_name": "Python 3.9.6 64-bit",
   "language": "python",
   "name": "python3"
  },
  "language_info": {
   "codemirror_mode": {
    "name": "ipython",
    "version": 3
   },
   "file_extension": ".py",
   "mimetype": "text/x-python",
   "name": "python",
   "nbconvert_exporter": "python",
   "pygments_lexer": "ipython3",
   "version": "3.9.6"
  },
  "orig_nbformat": 4,
  "vscode": {
   "interpreter": {
    "hash": "31f2aee4e71d21fbe5cf8b01ff0e069b9275f58929596ceb00d14d90e3e16cd6"
   }
  }
 },
 "nbformat": 4,
 "nbformat_minor": 2
}
