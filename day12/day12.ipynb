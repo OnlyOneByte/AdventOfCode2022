{
 "cells": [
  {
   "attachments": {},
   "cell_type": "markdown",
   "metadata": {},
   "source": [
    "# Setup"
   ]
  },
  {
   "cell_type": "code",
   "execution_count": 36,
   "metadata": {},
   "outputs": [],
   "source": [
    "input_lines = open(\"input.txt\", \"r\").readlines()"
   ]
  },
  {
   "cell_type": "code",
   "execution_count": 38,
   "metadata": {},
   "outputs": [
    {
     "name": "stdout",
     "output_type": "stream",
     "text": [
      "start (20, 0)\n",
      "end (20, 88)\n",
      "rows 41 cols 113\n"
     ]
    }
   ],
   "source": [
    "grid = [[0 for _ in range(len(input_lines[0].strip(\"\\n\")))] for _ in range(len(input_lines))]\n",
    "start = (0, 0)\n",
    "end = (0, 0)\n",
    "rows = len(grid)\n",
    "cols = len(grid[0])\n",
    "\n",
    "for row, line in enumerate(input_lines):\n",
    "    for col, c in enumerate(input_lines[row].strip(\"\\n\")):\n",
    "        if c == \"S\":\n",
    "            # elevation of a\n",
    "            grid[row][col] = 0\n",
    "            start = (row, col)\n",
    "        elif c == \"E\":\n",
    "            # elevation of z\n",
    "            grid[row][col] = 25\n",
    "            end = (row, col)\n",
    "        else:\n",
    "            grid[row][col] = ord(c) - 97\n",
    "\n",
    "print(\"start\", start)\n",
    "print(\"end\", end)\n",
    "print(\"rows\", rows, \"cols\", cols)"
   ]
  },
  {
   "attachments": {},
   "cell_type": "markdown",
   "metadata": {},
   "source": [
    "# Part 1"
   ]
  },
  {
   "cell_type": "code",
   "execution_count": 40,
   "metadata": {},
   "outputs": [
    {
     "name": "stdout",
     "output_type": "stream",
     "text": [
      "380\n"
     ]
    }
   ],
   "source": [
    "from queue import PriorityQueue\n",
    "\n",
    "q = PriorityQueue()\n",
    "visited = [[False for _ in range(cols)] for _ in range(rows)]\n",
    "\n",
    "q.put((0, start))\n",
    "\n",
    "def can_move(next_height, curr_height):\n",
    "    if next_height > curr_height:\n",
    "        return next_height - curr_height <= 1\n",
    "    return True\n",
    "\n",
    "while not q.empty():\n",
    "    # grab next item (dist, (row, col))\n",
    "    next_item = q.get()\n",
    "    dist = next_item[0]\n",
    "    row, col = next_item[1]\n",
    "    curr_height = grid[row][col]\n",
    "    if visited[row][col]:\n",
    "        continue\n",
    "\n",
    "    # update visited\n",
    "    visited[row][col] = True\n",
    "\n",
    "    # check if its termination case, found end\n",
    "    if row == end[0] and col == end[1]:\n",
    "        print(dist)\n",
    "        break\n",
    "\n",
    "    # propagate check movements\n",
    "    # up\n",
    "    if row > 0 and can_move(grid[row-1][col], curr_height):\n",
    "        q.put((dist+1, (row-1, col)))\n",
    "    # down\n",
    "    if row < rows-1 and can_move(grid[row+1][col], curr_height):\n",
    "        q.put((dist+1, (row+1, col)))\n",
    "\n",
    "    # left\n",
    "    if col > 0 and can_move(grid[row][col-1], curr_height):\n",
    "        q.put((dist+1, (row, col-1)))\n",
    "    # right\n",
    "    if col < cols-1 and can_move(grid[row][col+1], curr_height) :\n",
    "        q.put((dist+1, (row, col+1)))\n"
   ]
  },
  {
   "cell_type": "markdown",
   "metadata": {},
   "source": [
    "# Part 2"
   ]
  },
  {
   "cell_type": "code",
   "execution_count": 41,
   "metadata": {},
   "outputs": [
    {
     "name": "stdout",
     "output_type": "stream",
     "text": [
      "dist 375\n",
      "a square found: 15 0\n"
     ]
    }
   ],
   "source": [
    "from queue import PriorityQueue\n",
    "\n",
    "q = PriorityQueue()\n",
    "visited = [[False for _ in range(cols)] for _ in range(rows)]\n",
    "\n",
    "# same idea except we move backwards, from end to some square a\n",
    "\n",
    "q.put((0, end))\n",
    "\n",
    "def can_move(next_height, curr_height):\n",
    "    if next_height < curr_height:\n",
    "        return curr_height - next_height <= 1\n",
    "    return True\n",
    "\n",
    "while not q.empty():\n",
    "    # grab next item (dist, (row, col))\n",
    "    next_item = q.get()\n",
    "    dist = next_item[0]\n",
    "    row, col = next_item[1]\n",
    "    curr_height = grid[row][col]\n",
    "    if visited[row][col]:\n",
    "        continue\n",
    "\n",
    "    # update visited\n",
    "    visited[row][col] = True\n",
    "\n",
    "    # check if its termination case, found end\n",
    "    if curr_height == 0:\n",
    "        print(\"dist\", dist)\n",
    "        print(\"a square found:\", row, col)\n",
    "        break\n",
    "\n",
    "    # propagate check movements\n",
    "    # up\n",
    "    if row > 0 and can_move(grid[row-1][col], curr_height):\n",
    "        q.put((dist+1, (row-1, col)))\n",
    "    # down\n",
    "    if row < rows-1 and can_move(grid[row+1][col], curr_height):\n",
    "        q.put((dist+1, (row+1, col)))\n",
    "\n",
    "    # left\n",
    "    if col > 0 and can_move(grid[row][col-1], curr_height):\n",
    "        q.put((dist+1, (row, col-1)))\n",
    "    # right\n",
    "    if col < cols-1 and can_move(grid[row][col+1], curr_height) :\n",
    "        q.put((dist+1, (row, col+1)))"
   ]
  },
  {
   "cell_type": "code",
   "execution_count": null,
   "metadata": {},
   "outputs": [],
   "source": []
  }
 ],
 "metadata": {
  "kernelspec": {
   "display_name": "Python 3.9.6 64-bit",
   "language": "python",
   "name": "python3"
  },
  "language_info": {
   "codemirror_mode": {
    "name": "ipython",
    "version": 3
   },
   "file_extension": ".py",
   "mimetype": "text/x-python",
   "name": "python",
   "nbconvert_exporter": "python",
   "pygments_lexer": "ipython3",
   "version": "3.9.6"
  },
  "orig_nbformat": 4,
  "vscode": {
   "interpreter": {
    "hash": "31f2aee4e71d21fbe5cf8b01ff0e069b9275f58929596ceb00d14d90e3e16cd6"
   }
  }
 },
 "nbformat": 4,
 "nbformat_minor": 2
}
