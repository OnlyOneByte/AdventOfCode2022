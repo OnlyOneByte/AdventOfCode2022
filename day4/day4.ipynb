{
 "cells": [
  {
   "cell_type": "markdown",
   "metadata": {},
   "source": [
    "# Part 1"
   ]
  },
  {
   "cell_type": "code",
   "execution_count": 19,
   "metadata": {},
   "outputs": [
    {
     "name": "stdout",
     "output_type": "stream",
     "text": [
      "524\n"
     ]
    }
   ],
   "source": [
    "def check_assignment(assignment1, assignment2):\n",
    "    if (int(assignment1[0]) <= int(assignment2[0]) and int(assignment1[1]) >= int(assignment2[1])) or (int(assignment2[0]) <= int(assignment1[0]) and int(assignment2[1]) >= int(assignment1[1])):\n",
    "        return [assignment1, assignment2]\n",
    "    return None\n",
    "\n",
    "\n",
    "\n",
    "fully_contained = []\n",
    "count = 0\n",
    "with open(\"input.txt\", \"r\") as file:\n",
    "    for line in file.readlines():\n",
    "        assignments = line.strip(\"\\n\").split(\",\")\n",
    "        output = check_assignment(assignments[0].split(\"-\"), assignments[1].split(\"-\"))\n",
    "        if output:\n",
    "            count+=1\n",
    "            fully_contained.append(output)\n",
    "print(len(fully_contained))\n",
    "\n",
    "        "
   ]
  },
  {
   "cell_type": "markdown",
   "metadata": {},
   "source": [
    "# Part 2"
   ]
  },
  {
   "cell_type": "code",
   "execution_count": 20,
   "metadata": {},
   "outputs": [
    {
     "name": "stdout",
     "output_type": "stream",
     "text": [
      "798\n"
     ]
    }
   ],
   "source": [
    "def check_assignment(a, b):\n",
    "    if (a[0] >= b[0] and a[0] <= b[1]) or (a[1] >= b[0] and a[1] <= b[1]) or (b[0] >= a[0] and b[0] <= a[1]) or (b[1] >= a[0] and b[1] <= a[1]):\n",
    "        return [a, b]\n",
    "    return None\n",
    "\n",
    "\n",
    "\n",
    "fully_contained = []\n",
    "count = 0\n",
    "with open(\"input.txt\", \"r\") as file:\n",
    "    for line in file.readlines():\n",
    "        assignments = line.strip(\"\\n\").split(\",\")\n",
    "        output = check_assignment([int(x) for x in assignments[0].split(\"-\")], [int(x) for x in assignments[1].split(\"-\")])\n",
    "        if output:\n",
    "            count+=1\n",
    "            fully_contained.append(output)\n",
    "print(len(fully_contained))"
   ]
  },
  {
   "cell_type": "code",
   "execution_count": null,
   "metadata": {},
   "outputs": [],
   "source": []
  }
 ],
 "metadata": {
  "kernelspec": {
   "display_name": "Python 3.9.6 64-bit",
   "language": "python",
   "name": "python3"
  },
  "language_info": {
   "codemirror_mode": {
    "name": "ipython",
    "version": 3
   },
   "file_extension": ".py",
   "mimetype": "text/x-python",
   "name": "python",
   "nbconvert_exporter": "python",
   "pygments_lexer": "ipython3",
   "version": "3.9.6 (default, Sep 26 2022, 11:37:49) \n[Clang 14.0.0 (clang-1400.0.29.202)]"
  },
  "orig_nbformat": 4,
  "vscode": {
   "interpreter": {
    "hash": "31f2aee4e71d21fbe5cf8b01ff0e069b9275f58929596ceb00d14d90e3e16cd6"
   }
  }
 },
 "nbformat": 4,
 "nbformat_minor": 2
}
