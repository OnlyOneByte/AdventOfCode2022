{
 "cells": [
  {
   "cell_type": "markdown",
   "metadata": {},
   "source": [
    "# Part 1"
   ]
  },
  {
   "cell_type": "code",
   "execution_count": 3,
   "metadata": {},
   "outputs": [
    {
     "name": "stdout",
     "output_type": "stream",
     "text": [
      "{'a': 1, 'b': 2, 'c': 3, 'd': 4, 'e': 5, 'f': 6, 'g': 7, 'h': 8, 'i': 9, 'j': 10, 'k': 11, 'l': 12, 'm': 13, 'n': 14, 'o': 15, 'p': 16, 'q': 17, 'r': 18, 's': 19, 't': 20, 'u': 21, 'v': 22, 'w': 23, 'x': 24, 'y': 25, 'z': 26, 'A': 27, 'B': 28, 'C': 29, 'D': 30, 'E': 31, 'F': 32, 'G': 33, 'H': 34, 'I': 35, 'J': 36, 'K': 37, 'L': 38, 'M': 39, 'N': 40, 'O': 41, 'P': 42, 'Q': 43, 'R': 44, 'S': 45, 'T': 46, 'U': 47, 'V': 48, 'W': 49, 'X': 50, 'Y': 51, 'Z': 52}\n"
     ]
    }
   ],
   "source": [
    "import string\n",
    "letters = list(string.ascii_letters)\n",
    "priorities = {letters[i] : i+1 for i in range(len(letters))}\n",
    "    \n",
    "print(priorities)"
   ]
  },
  {
   "cell_type": "code",
   "execution_count": 4,
   "metadata": {},
   "outputs": [
    {
     "name": "stdout",
     "output_type": "stream",
     "text": [
      "7863\n"
     ]
    }
   ],
   "source": [
    "def check_backpack(backpack):\n",
    "    compartment_1 = backpack[:len(backpack)//2]\n",
    "    compartment_2 = backpack[len(backpack)//2:]\n",
    "    for x in compartment_1:\n",
    "        if x in compartment_2:\n",
    "            return x\n",
    "\n",
    "similarities = []\n",
    "with open(\"input.txt\", \"r\") as file:\n",
    "    for line in file.readlines():\n",
    "        similarities.append(check_backpack(line))\n",
    "print(sum([priorities[x] for x in similarities]))\n",
    "        "
   ]
  },
  {
   "cell_type": "markdown",
   "metadata": {},
   "source": [
    "# Part 2"
   ]
  },
  {
   "cell_type": "code",
   "execution_count": 9,
   "metadata": {},
   "outputs": [
    {
     "name": "stdout",
     "output_type": "stream",
     "text": [
      "['F', 'b', 'v', 'g', 'C', 'm', 'q', 'c', 'R', 'c', 'C', 'R', 's', 'M', 'z', 'g', 'D', 'N', 'q', 'r', 'r', 'm', 'F', 'g', 'm', 'V', 'b', 's', 'V', 'P', 'S', 'r', 'w', 'f', 's', 'Z', 'S', 'F', 'r', 'W', 's', 'g', 'R', 'B', 'B', 'T', 'q', 'd', 'c', 'f', 'L', 'p', 'b', 't', 'C', 'n', 'D', 'V', 'n', 'z', 'B', 'D', 'p', 'm', 'd', 'z', 'Q', 'v', 'd', 'l', 'f', 'C', 'V', 'V', 'R', 'C', 'w', 'S', 'c', 'J', 'z', 'D', 'C', 'g', 'B', 'M', 'h', 'Z', 'R', 'M', 'g', 'D', 'P', 'h', 'H', 'L', 'H', 'l', 'q', 'z']\n",
      "2488\n"
     ]
    }
   ],
   "source": [
    "lines = []\n",
    "with open(\"input.txt\", \"r\") as file:\n",
    "    lines = file.readlines()\n",
    "\n",
    "common = []\n",
    "for i in range(0, len(lines), 3):\n",
    "    elf_1 = set(lines[i].strip(\"\\n\"))\n",
    "    elf_2 = set(lines[i+1].strip(\"\\n\"))\n",
    "    elf_3 = set(lines[i+2].strip(\"\\n\"))\n",
    "\n",
    "    intersections = elf_1 & elf_2 & elf_3\n",
    "    common.append(intersections.pop())\n",
    "\n",
    "print(common)\n",
    "\n",
    "sum = sum([priorities[x] for x in common])\n",
    "print(sum)\n",
    "\n",
    "\n",
    "\n"
   ]
  },
  {
   "cell_type": "code",
   "execution_count": null,
   "metadata": {},
   "outputs": [],
   "source": []
  }
 ],
 "metadata": {
  "kernelspec": {
   "display_name": "Python 3.9.6 64-bit",
   "language": "python",
   "name": "python3"
  },
  "language_info": {
   "codemirror_mode": {
    "name": "ipython",
    "version": 3
   },
   "file_extension": ".py",
   "mimetype": "text/x-python",
   "name": "python",
   "nbconvert_exporter": "python",
   "pygments_lexer": "ipython3",
   "version": "3.9.6"
  },
  "orig_nbformat": 4,
  "vscode": {
   "interpreter": {
    "hash": "31f2aee4e71d21fbe5cf8b01ff0e069b9275f58929596ceb00d14d90e3e16cd6"
   }
  }
 },
 "nbformat": 4,
 "nbformat_minor": 2
}
