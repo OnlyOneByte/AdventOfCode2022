{
 "cells": [
  {
   "cell_type": "markdown",
   "metadata": {},
   "source": [
    "# Part 1"
   ]
  },
  {
   "cell_type": "code",
   "execution_count": 1,
   "metadata": {},
   "outputs": [],
   "source": [
    "input_line = open(\"input.txt\", \"r\").readlines()[0].strip(\"\\n\")"
   ]
  },
  {
   "cell_type": "code",
   "execution_count": 17,
   "metadata": {},
   "outputs": [],
   "source": [
    "def find_marker(str_in, num_unique):\n",
    "    window = []\n",
    "    marker = -1\n",
    "    i = 0\n",
    "    while i < len(input_line):\n",
    "        # print(window, i, input_line[i])\n",
    "        if input_line[i] not in window:\n",
    "            window.append(input_line[i])\n",
    "            if len(window) == num_unique:\n",
    "                marker = i+1\n",
    "                break\n",
    "        else:\n",
    "            # calculate how many to skip ahead\n",
    "            skip = (window.index(input_line[i]) + 1)\n",
    "\n",
    "            for x in range(skip):\n",
    "                window.pop(0)\n",
    "\n",
    "            window.append(input_line[i])\n",
    "        i += 1\n",
    "\n",
    "    return marker"
   ]
  },
  {
   "cell_type": "code",
   "execution_count": 18,
   "metadata": {},
   "outputs": [
    {
     "name": "stdout",
     "output_type": "stream",
     "text": [
      "Marker: 1140\n"
     ]
    }
   ],
   "source": [
    "print(\"Marker:\", find_marker(input_line, 4))"
   ]
  },
  {
   "cell_type": "markdown",
   "metadata": {},
   "source": [
    "# Part 2"
   ]
  },
  {
   "cell_type": "code",
   "execution_count": 19,
   "metadata": {},
   "outputs": [
    {
     "name": "stdout",
     "output_type": "stream",
     "text": [
      "Marker: 3495\n"
     ]
    }
   ],
   "source": [
    "print(\"Marker:\", find_marker(input_line, 14))"
   ]
  }
 ],
 "metadata": {
  "kernelspec": {
   "display_name": "Python 3.9.6 64-bit",
   "language": "python",
   "name": "python3"
  },
  "language_info": {
   "codemirror_mode": {
    "name": "ipython",
    "version": 3
   },
   "file_extension": ".py",
   "mimetype": "text/x-python",
   "name": "python",
   "nbconvert_exporter": "python",
   "pygments_lexer": "ipython3",
   "version": "3.9.6"
  },
  "orig_nbformat": 4,
  "vscode": {
   "interpreter": {
    "hash": "31f2aee4e71d21fbe5cf8b01ff0e069b9275f58929596ceb00d14d90e3e16cd6"
   }
  }
 },
 "nbformat": 4,
 "nbformat_minor": 2
}
