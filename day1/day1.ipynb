{
 "cells": [
  {
   "cell_type": "markdown",
   "metadata": {},
   "source": [
    "# Part 1: Elf with the most snacks"
   ]
  },
  {
   "cell_type": "code",
   "execution_count": 3,
   "metadata": {},
   "outputs": [
    {
     "name": "stdout",
     "output_type": "stream",
     "text": [
      "69883\n"
     ]
    }
   ],
   "source": [
    "with open(\"input.txt\", \"r\") as file:\n",
    "    max = 0\n",
    "    current = 0\n",
    "    for line in file.readlines():\n",
    "        if line == \"\\n\":\n",
    "            if current > max:\n",
    "                max = current\n",
    "            current = 0\n",
    "        else:\n",
    "            current += int(line)\n",
    "    print(max)"
   ]
  },
  {
   "cell_type": "markdown",
   "metadata": {},
   "source": [
    "# Part 2: Top 3 with most snacks"
   ]
  },
  {
   "cell_type": "code",
   "execution_count": 6,
   "metadata": {},
   "outputs": [
    {
     "name": "stdout",
     "output_type": "stream",
     "text": [
      "[67966, 69727, 69883]\n",
      "207576\n"
     ]
    }
   ],
   "source": [
    "import heapq\n",
    "\n",
    "\n",
    "with open(\"input.txt\", \"r\") as file:\n",
    "    minheap = []\n",
    "    current = 0\n",
    "    for line in file.readlines():\n",
    "        if line == \"\\n\":\n",
    "            if len(minheap) < 3:\n",
    "                heapq.heappush(minheap, current)\n",
    "            elif current > minheap[0]:\n",
    "                heapq.heappushpop(minheap, current)\n",
    "            current = 0\n",
    "        else:\n",
    "            current += int(line)\n",
    "    print(minheap)\n",
    "\n",
    "    print(sum(minheap))\n"
   ]
  },
  {
   "cell_type": "code",
   "execution_count": null,
   "metadata": {},
   "outputs": [],
   "source": []
  }
 ],
 "metadata": {
  "kernelspec": {
   "display_name": "Python 3.9.6 64-bit",
   "language": "python",
   "name": "python3"
  },
  "language_info": {
   "codemirror_mode": {
    "name": "ipython",
    "version": 3
   },
   "file_extension": ".py",
   "mimetype": "text/x-python",
   "name": "python",
   "nbconvert_exporter": "python",
   "pygments_lexer": "ipython3",
   "version": "3.9.6"
  },
  "orig_nbformat": 4,
  "vscode": {
   "interpreter": {
    "hash": "31f2aee4e71d21fbe5cf8b01ff0e069b9275f58929596ceb00d14d90e3e16cd6"
   }
  }
 },
 "nbformat": 4,
 "nbformat_minor": 2
}
