{
 "cells": [
  {
   "cell_type": "markdown",
   "metadata": {},
   "source": [
    "# Part 1: Calculate score"
   ]
  },
  {
   "cell_type": "code",
   "execution_count": 3,
   "metadata": {},
   "outputs": [],
   "source": [
    "def round_score(enemy, you):\n",
    "    # 1, A, X = Rock\n",
    "    # 2, B, Y = Paper\n",
    "    # 3, C, Z = Scissors\n",
    "    # lose = 0, tie = 3, win = 6\n",
    "\n",
    "    score_thrown = {\"X\": 1, \"Y\": 2, \"Z\": 3, \"A\": 1, \"B\": 2, \"C\": 3}\n",
    "    score = score_thrown[you] # grabs value of hand thrown\n",
    "    \n",
    "    # value of round end\n",
    "    # Ties\n",
    "    if score_thrown[enemy] == score_thrown[you]:\n",
    "        score += 3\n",
    "    else:\n",
    "        # you wins\n",
    "        # idea is using modulo, number 1 higher always wins.\n",
    "        if (score_thrown[enemy] % 3) + 1 == score_thrown[you]:\n",
    "            score += 6\n",
    "    \n",
    "    return score  "
   ]
  },
  {
   "cell_type": "code",
   "execution_count": 5,
   "metadata": {},
   "outputs": [
    {
     "name": "stdout",
     "output_type": "stream",
     "text": [
      "12645\n"
     ]
    }
   ],
   "source": [
    "with open(\"input.txt\", \"r\") as file:\n",
    "    score = 0\n",
    "    for line in file.readlines():\n",
    "        moves = line.strip(\"\\n\").split(\" \")\n",
    "        score += round_score(moves[0], moves[1])\n",
    "    print(score)\n",
    "        "
   ]
  },
  {
   "cell_type": "markdown",
   "metadata": {},
   "source": [
    "# Part 2: Top 3 with most snacks"
   ]
  },
  {
   "cell_type": "code",
   "execution_count": 8,
   "metadata": {},
   "outputs": [],
   "source": [
    "def round_score_2(enemy, you):\n",
    "    # 1, A = Rock\n",
    "    # 2, B = Paper\n",
    "    # 3, C = Scissors\n",
    "    # X = lose, Y = draw, Z = Win\n",
    "\n",
    "    score_thrown = {\"X\": 0, \"Y\": 3, \"Z\": 6, \"A\": 1, \"B\": 2, \"C\": 3}\n",
    "    score = score_thrown[you] # grabs value of round end\n",
    "\n",
    "    # value of hand thrown\n",
    "    if you == \"X\":\n",
    "        score += ((score_thrown[enemy]-2)%3)+1\n",
    "    elif you == \"Y\":\n",
    "        score += score_thrown[enemy]\n",
    "    else:\n",
    "        score += (score_thrown[enemy]%3)+1\n",
    "    return score"
   ]
  },
  {
   "cell_type": "code",
   "execution_count": 9,
   "metadata": {},
   "outputs": [
    {
     "name": "stdout",
     "output_type": "stream",
     "text": [
      "11756\n"
     ]
    }
   ],
   "source": [
    "with open(\"input.txt\", \"r\") as file:\n",
    "    score = 0\n",
    "    for line in file.readlines():\n",
    "        moves = line.strip(\"\\n\").split(\" \")\n",
    "        score += round_score_2(moves[0], moves[1])\n",
    "    print(score)"
   ]
  }
 ],
 "metadata": {
  "kernelspec": {
   "display_name": "Python 3.9.6 64-bit",
   "language": "python",
   "name": "python3"
  },
  "language_info": {
   "codemirror_mode": {
    "name": "ipython",
    "version": 3
   },
   "file_extension": ".py",
   "mimetype": "text/x-python",
   "name": "python",
   "nbconvert_exporter": "python",
   "pygments_lexer": "ipython3",
   "version": "3.9.6"
  },
  "orig_nbformat": 4,
  "vscode": {
   "interpreter": {
    "hash": "31f2aee4e71d21fbe5cf8b01ff0e069b9275f58929596ceb00d14d90e3e16cd6"
   }
  }
 },
 "nbformat": 4,
 "nbformat_minor": 2
}
