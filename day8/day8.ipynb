{
 "cells": [
  {
   "attachments": {},
   "cell_type": "markdown",
   "metadata": {},
   "source": [
    "# Setup"
   ]
  },
  {
   "cell_type": "code",
   "execution_count": 1,
   "metadata": {},
   "outputs": [],
   "source": [
    "input_lines = open(\"input.txt\", \"r\").readlines()"
   ]
  },
  {
   "cell_type": "code",
   "execution_count": 2,
   "metadata": {},
   "outputs": [
    {
     "name": "stdout",
     "output_type": "stream",
     "text": [
      "99 99\n"
     ]
    }
   ],
   "source": [
    "grid = [input_lines[x].strip(\"\\n\") for x in range(len(input_lines))]\n",
    "cols = len(grid[0])\n",
    "rows = len(grid)\n",
    "\n",
    "print(cols, rows)"
   ]
  },
  {
   "attachments": {},
   "cell_type": "markdown",
   "metadata": {},
   "source": [
    "# Part 1"
   ]
  },
  {
   "cell_type": "code",
   "execution_count": 3,
   "metadata": {},
   "outputs": [],
   "source": [
    "visible = [[False for  _ in range(cols)] for _ in range(rows)]\n",
    "\n",
    "# look from left\n",
    "for r in range(rows):\n",
    "    curr_highest = -1\n",
    "    for c in range(cols):\n",
    "        if int(grid[r][c]) > curr_highest:\n",
    "            visible[r][c] = True\n",
    "            curr_highest = int(grid[r][c])\n",
    "\n",
    "# look from down\n",
    "for c in range(cols):\n",
    "    curr_highest = -1\n",
    "    for r in range(rows):\n",
    "        if int(grid[r][c]) > curr_highest:\n",
    "            visible[r][c] = True\n",
    "            curr_highest = int(grid[r][c])\n",
    "\n",
    "# look from right\n",
    "for r in range(rows):\n",
    "    curr_highest = -1\n",
    "    for c in range(cols-1, 0, -1):\n",
    "        if int(grid[r][c]) > curr_highest:\n",
    "            visible[r][c] = True\n",
    "            curr_highest = int(grid[r][c])\n",
    "\n",
    "# look from up\n",
    "for c in range(cols):\n",
    "    curr_highest = -1\n",
    "    for r in range(rows-1, 0, -1):\n",
    "        if int(grid[r][c]) > curr_highest:\n",
    "            visible[r][c] = True\n",
    "            curr_highest = int(grid[r][c])\n",
    "\n"
   ]
  },
  {
   "cell_type": "code",
   "execution_count": 4,
   "metadata": {},
   "outputs": [
    {
     "name": "stdout",
     "output_type": "stream",
     "text": [
      "1803\n"
     ]
    }
   ],
   "source": [
    "count = 0\n",
    "for row in visible:\n",
    "    for col in row:\n",
    "        count += 1 if col else 0\n",
    "\n",
    "print(count)"
   ]
  },
  {
   "cell_type": "markdown",
   "metadata": {},
   "source": [
    "# Part 2"
   ]
  },
  {
   "cell_type": "code",
   "execution_count": 5,
   "metadata": {},
   "outputs": [],
   "source": [
    "def calculate_scenic_score(r, c):\n",
    "    height = int(grid[r][c])\n",
    "    \n",
    "    north_score = 0\n",
    "    for i in reversed(range(-1, r-1)):\n",
    "        north_score += 1\n",
    "        if height <= int(grid[i][c]):\n",
    "            break\n",
    "    \n",
    "    south_score = 0\n",
    "    for i in range(r+1, rows):\n",
    "        south_score += 1\n",
    "        if height <= int(grid[i][c]):\n",
    "            break\n",
    "\n",
    "    east_score = 0\n",
    "    for i in range(c+1, cols):\n",
    "        east_score += 1\n",
    "        if height <= int(grid[r][i]):\n",
    "            break\n",
    "    \n",
    "    west_score = 0\n",
    "    for i in reversed(range(-1, c-1)):\n",
    "        west_score += 1\n",
    "        if height <= int(grid[r][i]):\n",
    "            break\n",
    "\n",
    "    # return north_score\n",
    "    # print(north_score, south_score, east_score, west_score)\n",
    "    return north_score*south_score*east_score*west_score\n",
    "\n"
   ]
  },
  {
   "cell_type": "code",
   "execution_count": 6,
   "metadata": {},
   "outputs": [
    {
     "name": "stdout",
     "output_type": "stream",
     "text": [
      "268912\n",
      "(49, 14)\n"
     ]
    }
   ],
   "source": [
    "max_score = 0\n",
    "max_coord = ()\n",
    "\n",
    "for r in range(1, rows-1):\n",
    "    for c in range(1, cols-1):\n",
    "        score = calculate_scenic_score(r, c)\n",
    "        if score > max_score:\n",
    "            max_score = score\n",
    "            max_coord = (r, c)\n",
    "        \n",
    "print(max_score)\n",
    "print(max_coord)"
   ]
  }
 ],
 "metadata": {
  "kernelspec": {
   "display_name": "Python 3.9.6 64-bit",
   "language": "python",
   "name": "python3"
  },
  "language_info": {
   "codemirror_mode": {
    "name": "ipython",
    "version": 3
   },
   "file_extension": ".py",
   "mimetype": "text/x-python",
   "name": "python",
   "nbconvert_exporter": "python",
   "pygments_lexer": "ipython3",
   "version": "3.9.6"
  },
  "orig_nbformat": 4,
  "vscode": {
   "interpreter": {
    "hash": "31f2aee4e71d21fbe5cf8b01ff0e069b9275f58929596ceb00d14d90e3e16cd6"
   }
  }
 },
 "nbformat": 4,
 "nbformat_minor": 2
}
